{
 "cells": [
  {
   "cell_type": "code",
   "execution_count": null,
   "metadata": {},
   "outputs": [],
   "source": [
    "import pandas as pd\n",
    "import os\n",
    "import ffmpeg\n",
    "import numpy as np\n",
    "import re"
   ]
  },
  {
   "cell_type": "markdown",
   "metadata": {},
   "source": [
    "### Соотнесение списка глосс с предложениями"
   ]
  },
  {
   "cell_type": "code",
   "execution_count": null,
   "metadata": {},
   "outputs": [],
   "source": [
    "df = pd.read_csv('./data/train.csv')"
   ]
  },
  {
   "cell_type": "code",
   "execution_count": null,
   "metadata": {},
   "outputs": [],
   "source": [
    "df['start'] = df['start (sec)'].astype(float)\n",
    "df['end'] = df['end (sec)'].astype(float)"
   ]
  },
  {
   "cell_type": "code",
   "execution_count": null,
   "metadata": {},
   "outputs": [],
   "source": [
    "def parse_gloss_cell(cell):\n",
    "    entries = []\n",
    "    if pd.isna(cell):\n",
    "        return entries\n",
    "    for line in cell.strip().splitlines():\n",
    "        parts = line.strip().split('|')\n",
    "        if len(parts) == 3:\n",
    "            try:\n",
    "                g_start = float(parts[0])\n",
    "                g_end = float(parts[1])\n",
    "                g_text = parts[2].strip()\n",
    "                entries.append({'start': g_start, 'end': g_end, 'text': g_text})\n",
    "            except ValueError:\n",
    "                continue\n",
    "    return entries\n",
    "\n",
    "result_rows = []\n",
    "for video, group in df.groupby('video_name'):\n",
    "    group = group.sort_values('start').copy()\n",
    "    first_row = group.iloc[0]\n",
    "    r_glosses = parse_gloss_cell(first_row['R-gloss (на документ)'])\n",
    "    l_glosses = parse_gloss_cell(first_row['L-gloss (на документ)'])\n",
    "    \n",
    "    all_glosses = r_glosses + l_glosses\n",
    "    unique_glosses = {}\n",
    "    for g in all_glosses:\n",
    "        key = (g['start'], g['end'], g['text'])\n",
    "        unique_glosses[key] = g\n",
    "    glosses_list = list(unique_glosses.values())\n",
    "    glosses_list.sort(key=lambda x: x['start'])\n",
    "    \n",
    "    sentences = group.to_dict('records')\n",
    "\n",
    "    for i, sent in enumerate(sentences):\n",
    "        sent['glosses'] = []\n",
    "\n",
    "    for g in glosses_list:\n",
    "        for i, sent in enumerate(sentences):\n",
    "            s_start = sent['start']\n",
    "            s_end = sent['end']\n",
    "            if s_start <= g['start'] <= s_end:\n",
    "                sentences[i]['glosses'].append(g['text'])\n",
    "            if g['start'] < s_start and g['end'] > s_end:\n",
    "                if g['text'] not in sentences[i]['glosses']:\n",
    "                    sentences[i]['glosses'].append(g['text'])\n",
    "                if i - 1 >= 0 and g['text'] not in sentences[i - 1]['glosses']:\n",
    "                    sentences[i - 1]['glosses'].append(g['text'])\n",
    "                if i + 1 < len(sentences) and g['text'] not in sentences[i + 1]['glosses']:\n",
    "                    sentences[i + 1]['glosses'].append(g['text'])\n",
    "    \n",
    "    for sent in sentences:\n",
    "        sent['glosses'] = \" \".join(sent['glosses'])\n",
    "    \n",
    "    result_rows.extend(sentences)\n",
    "\n",
    "result_df = pd.DataFrame(result_rows)"
   ]
  },
  {
   "cell_type": "markdown",
   "metadata": {},
   "source": [
    "### Обработка видео"
   ]
  },
  {
   "cell_type": "code",
   "execution_count": null,
   "metadata": {},
   "outputs": [],
   "source": [
    "# для загрузки видео\n",
    "name = \"\"\n",
    "\n",
    "input_url = f\"https://rsl.nstu.ru/video/{name}.webm\" \n",
    "output_file = f\"{name}.mp4\"\n",
    "\n",
    "ffmpeg.input(input_url).output(output_file, vcodec='libx264').run()"
   ]
  },
  {
   "cell_type": "code",
   "execution_count": null,
   "metadata": {},
   "outputs": [],
   "source": [
    "# для разделения на фрагменты\n",
    "output_folder = \"./data/video_segments\"\n",
    "os.makedirs(output_folder, exist_ok=True)\n",
    "\n",
    "# создаем словарь с временными метками\n",
    "result_df = pd.read_csv('./data/final_train.csv')\n",
    "segment_dict = {}\n",
    "videos = [\n",
    "    \"RSLN-n4-s2\",\"RSLM-n1-s44-d\",\"RSLM-n3-s55-d\",\"RSLN-n5-s2\",\"RSLM-n2-s57-d\",\n",
    "    \"RSLM-n1-s57-d\",\"RSLN-n6-s2\",\"RSLN-n8-s2\",\"RSLM-n2-s55-d\",\n",
    "    \"RSLN-n3-s2\",\"RSLN-n1-s2\",\"RSLM-m4-s59-d\",\"RSLM-n1-s56-d\",\"RSLM-m4-s57-d\",\n",
    "    \"RSLN-n9-s2\",\"RSLM-m4-s54-d\",\"RSLM-n3-s56-d\",\"RSLM-m4-s44-d\",\"RSLM-m5-s58-d\",\n",
    "    \"RSLM-n1-s62\",\"RSLM-n2-s56-d\",\"RSLM-m1-s54-d\",\"RSLM-m6-s55-d\",\n",
    "    \"RSLM-m8-s58-d\",\"RSLM-m2-s44-d\",\"RSLN-n2-s2\",\"RSLM-m6-s56-d\",\"RSLM-m1-s59-d\",\n",
    "    \"RSLM-m3-s54-d\",\"RSLM-n1-s55-d\",\"RSLM-m5-s56-d\",\"RSLM-m3-s57-d\",\"RSLM-b26-s60\",\n",
    "    \"RSLM-m8-s55-d\",\"RSLM-m2-s54-d\",\"RSLM-m7-s55-d\",\"RSLN-n1-s3\",\"RSLM-m1-s57-d\",\n",
    "    \"RSLM-m6-s58-d\",\"RSLM-m2-s57-d\",\"RSLM-m6-s43-d\",\"RSLM-m3-s59-d\",\n",
    "    \"RSLM-n1-s60\",\"RSLM-b26-s61\",\"RSLM-m7-s58-d\",\"RSLM-m7-s56-d\",\n",
    "    \"RSLN-b1-s64\",\"RSLM-m2-s59-d\",\"RSLN-b1-s4\",\"RSLM-n1-s61\",\"RSLM-b25-s60\",\n",
    "    \"RSLM-n3-s61\",\"RSLM-b25-s62\",\"RSLM-n2-s61\",\"RSLN-n1-s1\"]\n",
    "for v in videos:\n",
    "    res = result_df[result_df['video_name'] == v]\n",
    "    segment_dict[v] = []\n",
    "    for i in range(len(res)):\n",
    "        start, end = res.iloc[i]['start'], res.iloc[i]['end']\n",
    "        segment_dict[v].append((start,end))\n",
    "\n",
    "# разбиваем на сегменты\n",
    "for v, s in segment_dict.items():\n",
    "    segments = s\n",
    "    base_name = v\n",
    "    video_file = base_name + \".mp4\"\n",
    "    input_path = os.path.join(\"./data/videos\", video_file)\n",
    "    for i, (start, end) in enumerate(segments, start=1):\n",
    "            output_file = os.path.join(output_folder, f\"{base_name}-seg{i}.mp4\")\n",
    "            print(f\"Processing segment {i} for {video_file}: {output_file}\")\n",
    "            \n",
    "            try:\n",
    "                (\n",
    "                    ffmpeg\n",
    "                    .input(input_path, ss=start, to=end)\n",
    "                    .output(output_file, c='copy')\n",
    "                    .run(overwrite_output=True)\n",
    "                )\n",
    "            except ffmpeg.Error as e:\n",
    "                print(f\"An error occurred while processing {video_file} segment {i}:\")\n",
    "                print(e.stderr.decode())\n",
    "                raise"
   ]
  },
  {
   "cell_type": "markdown",
   "metadata": {},
   "source": [
    "### Speaker и разделение на train/test "
   ]
  },
  {
   "cell_type": "code",
   "execution_count": null,
   "metadata": {},
   "outputs": [],
   "source": [
    "def extract_speaker(video_name):\n",
    "    match = re.search(r'-(s\\d+)-', video_name)\n",
    "    if match:\n",
    "        return match.group(1)\n",
    "    else:\n",
    "        parts = video_name.split('-')\n",
    "        for part in parts:\n",
    "            if part.startswith('s') and part[1:].isdigit():\n",
    "                return part\n",
    "    return None"
   ]
  },
  {
   "cell_type": "code",
   "execution_count": null,
   "metadata": {},
   "outputs": [],
   "source": [
    "df['speaker'] = df['video_name'].apply(extract_speaker)\n",
    "unique_speakers = df['speaker'].unique()"
   ]
  },
  {
   "cell_type": "code",
   "execution_count": null,
   "metadata": {},
   "outputs": [],
   "source": [
    "np.random.seed(42)\n",
    "num_train = int(0.9 * len(unique_speakers))\n",
    "train_speakers = np.random.choice(unique_speakers, num_train, replace=False)\n",
    "\n",
    "df['is_train'] = df['speaker'].apply(lambda spk: spk in train_speakers)"
   ]
  },
  {
   "cell_type": "code",
   "execution_count": null,
   "metadata": {},
   "outputs": [],
   "source": [
    "df.to_csv('./data/train.csv')"
   ]
  }
 ],
 "metadata": {
  "language_info": {
   "name": "python"
  }
 },
 "nbformat": 4,
 "nbformat_minor": 2
}
